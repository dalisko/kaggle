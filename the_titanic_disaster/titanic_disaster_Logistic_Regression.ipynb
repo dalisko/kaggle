{
 "cells": [
  {
   "cell_type": "code",
   "execution_count": 1,
   "metadata": {
    "colab": {},
    "colab_type": "code",
    "id": "xOapz7rILGIm"
   },
   "outputs": [],
   "source": [
    "import pandas as pd\n",
    "import numpy as np\n",
    "import matplotlib.pyplot as plt\n",
    "from scipy import stats\n",
    "import sklearn.metrics\n",
    "%matplotlib inline"
   ]
  },
  {
   "cell_type": "markdown",
   "metadata": {
    "colab_type": "text",
    "id": "WOIQ_Wbm4UQ9"
   },
   "source": [
    "# The Titanic Disaster"
   ]
  },
  {
   "cell_type": "markdown",
   "metadata": {
    "colab_type": "text",
    "id": "uQDH6F_9XM23"
   },
   "source": [
    "### a)"
   ]
  },
  {
   "cell_type": "code",
   "execution_count": 2,
   "metadata": {
    "colab": {},
    "colab_type": "code",
    "id": "9Nr3Nd9D4Kg9"
   },
   "outputs": [],
   "source": [
    "train = pd.read_csv(\"train_titanic.csv\")\n",
    "test = pd.read_csv(\"test_titanic.csv\")"
   ]
  },
  {
   "cell_type": "markdown",
   "metadata": {
    "colab_type": "text",
    "id": "m4hdvQ5wXTel"
   },
   "source": [
    "### b) Before we fit logistic regression, we should first make sure that the dataset does not have missing values"
   ]
  },
  {
   "cell_type": "code",
   "execution_count": 3,
   "metadata": {
    "colab": {
     "base_uri": "https://localhost:8080/",
     "height": 238
    },
    "colab_type": "code",
    "id": "19auPA_m4uld",
    "outputId": "da0d99e6-f9d9-4c76-ccbf-337248d47cd7"
   },
   "outputs": [
    {
     "data": {
      "text/plain": [
       "PassengerId      0\n",
       "Survived         0\n",
       "Pclass           0\n",
       "Name             0\n",
       "Sex              0\n",
       "Age            177\n",
       "SibSp            0\n",
       "Parch            0\n",
       "Ticket           0\n",
       "Fare             0\n",
       "Cabin          687\n",
       "Embarked         2\n",
       "dtype: int64"
      ]
     },
     "execution_count": 3,
     "metadata": {},
     "output_type": "execute_result"
    }
   ],
   "source": [
    "#Checking for missing entries in the training set\n",
    "train.isnull().sum()"
   ]
  },
  {
   "cell_type": "code",
   "execution_count": 45,
   "metadata": {
    "colab": {
     "base_uri": "https://localhost:8080/",
     "height": 283
    },
    "colab_type": "code",
    "id": "aNJ61Khp5DED",
    "outputId": "b609ef0b-67f5-4ce8-faeb-1f6f2f712e11"
   },
   "outputs": [
    {
     "data": {
      "image/png": "[encoded data removed]",
      "text/plain": [
       "<Figure size 432x288 with 1 Axes>"
      ]
     },
     "metadata": {
      "tags": []
     },
     "output_type": "display_data"
    }
   ],
   "source": [
    "axs = train[\"Age\"].hist(bins = 20, color = 'purple', alpha = 0.65)\n",
    "axs.set(xlabel='Age')\n",
    "plt.xlim(-5,85)\n",
    "plt.show()"
   ]
  },
  {
   "cell_type": "markdown",
   "metadata": {
    "colab_type": "text",
    "id": "23ASOrRbjPPV"
   },
   "source": [
    "### Percent of missing values for the three categories (Age, Cabin, Embarked)"
   ]
  },
  {
   "cell_type": "code",
   "execution_count": 46,
   "metadata": {
    "colab": {
     "base_uri": "https://localhost:8080/",
     "height": 68
    },
    "colab_type": "code",
    "id": "N9gcOFJajOY1",
    "outputId": "27009b64-f37b-4199-c66c-fbcf6343e794"
   },
   "outputs": [
    {
     "name": "stdout",
     "output_type": "stream",
     "text": [
      "Percent of \"Age\" values that are missing: 19.9\n",
      "Percent of \"Cabin\" values that are missing: 77.1\n",
      "Percent of \"Embarked\" values that are missing: 0.2\n"
     ]
    }
   ],
   "source": [
    "print('Percent of \"Age\" values that are missing: %.1f' %((train[\"Age\"].isnull().sum()/train[\"Age\"].shape[0])*100))\n",
    "print('Percent of \"Cabin\" values that are missing: %.1f' %((train[\"Cabin\"].isnull().sum()/train[\"Cabin\"].shape[0])*100))\n",
    "print('Percent of \"Embarked\" values that are missing: %.1f' %((train[\"Embarked\"].isnull().sum()/train[\"Embarked\"].shape[0])*100))"
   ]
  },
  {
   "cell_type": "markdown",
   "metadata": {
    "colab_type": "text",
    "id": "o3jBkdAMXjrN"
   },
   "source": [
    "### Since most of the \"Cabin\" values are missing (77%), we can drop this feature completely."
   ]
  },
  {
   "cell_type": "code",
   "execution_count": 47,
   "metadata": {
    "colab": {
     "base_uri": "https://localhost:8080/",
     "height": 51
    },
    "colab_type": "code",
    "id": "vKNED_c-7JsE",
    "outputId": "f6f159d9-7b29-4752-be1b-31a96846aa8d"
   },
   "outputs": [
    {
     "name": "stdout",
     "output_type": "stream",
     "text": [
      "The mean of \"Age\" is 29.70\n",
      "The median of \"Age\" is 28.00\n"
     ]
    }
   ],
   "source": [
    "print('The mean of \"Age\" is %.2f' %(train[\"Age\"].mean(skipna = True)))\n",
    "print('The median of \"Age\" is %.2f' %(train[\"Age\"].median(skipna = True)))\n"
   ]
  },
  {
   "cell_type": "markdown",
   "metadata": {
    "colab_type": "text",
    "id": "XrguGBz7X3-4"
   },
   "source": [
    "We can use the median to impute the missing Age values, since from the graph above, it seems that the Age distribution is right-skewed. For the \"Embarked\" feature we just use the most common observation to fill out the missing values."
   ]
  },
  {
   "cell_type": "code",
   "execution_count": 0,
   "metadata": {
    "colab": {},
    "colab_type": "code",
    "id": "6XrHrA7-jycL"
   },
   "outputs": [],
   "source": [
    "train_imputed = train.copy()\n",
    "train_imputed[\"Age\"].fillna(train[\"Age\"].median(skipna = True), inplace = True)\n",
    "train_imputed[\"Embarked\"].fillna(train['Embarked'].value_counts().idxmax(), inplace = True)\n",
    "train_imputed.drop('Cabin', axis = 1, inplace = True)"
   ]
  },
  {
   "cell_type": "markdown",
   "metadata": {
    "colab_type": "text",
    "id": "OTjIkN8sOJLY"
   },
   "source": [
    "### We can now produce some bar plots to study the relation between features and the response"
   ]
  },
  {
   "cell_type": "code",
   "execution_count": 57,
   "metadata": {
    "colab": {
     "base_uri": "https://localhost:8080/",
     "height": 566
    },
    "colab_type": "code",
    "id": "qsZ744YNOImF",
    "outputId": "789436dd-014b-451e-acdd-e1dbd50ff139"
   },
   "outputs": [
    {
     "data": {
      "image/png": "[encoded data removed]",
      "text/plain": [
       "<Figure size 432x288 with 1 Axes>"
      ]
     },
     "metadata": {
      "tags": []
     },
     "output_type": "display_data"
    },
    {
     "data": {
      "text/plain": [
       "<function matplotlib.pyplot.show>"
      ]
     },
     "execution_count": 57,
     "metadata": {
      "tags": []
     },
     "output_type": "execute_result"
    },
    {
     "data": {
      "image/png": "[encoded data removed]",
      "text/plain": [
       "<Figure size 432x288 with 1 Axes>"
      ]
     },
     "metadata": {
      "tags": []
     },
     "output_type": "display_data"
    }
   ],
   "source": [
    "import seaborn as sns\n",
    "\n",
    "sns.barplot('Embarked', 'Survived', data = train_imputed, color = \"orange\")\n",
    "plt.show()\n",
    "\n",
    "sns.barplot('Sex', 'Survived', data = train_imputed, color = \"aqua\")\n",
    "plt.show"
   ]
  },
  {
   "cell_type": "markdown",
   "metadata": {
    "colab_type": "text",
    "id": "hUxN02saYY8y"
   },
   "source": [
    "### We must apply the same steps to the test set, so that the two sets have the same structure. Furthermore, the 1 missing \"Fare\" value is completed using the median."
   ]
  },
  {
   "cell_type": "code",
   "execution_count": 58,
   "metadata": {
    "colab": {
     "base_uri": "https://localhost:8080/",
     "height": 221
    },
    "colab_type": "code",
    "id": "mG7CRzAjJivz",
    "outputId": "3d111e85-3dcc-4408-8c70-0203fc6a2e45"
   },
   "outputs": [
    {
     "data": {
      "text/plain": [
       "PassengerId      0\n",
       "Pclass           0\n",
       "Name             0\n",
       "Sex              0\n",
       "Age             86\n",
       "SibSp            0\n",
       "Parch            0\n",
       "Ticket           0\n",
       "Fare             1\n",
       "Cabin          327\n",
       "Embarked         0\n",
       "dtype: int64"
      ]
     },
     "execution_count": 58,
     "metadata": {
      "tags": []
     },
     "output_type": "execute_result"
    }
   ],
   "source": [
    "test.isnull().sum()"
   ]
  },
  {
   "cell_type": "code",
   "execution_count": 0,
   "metadata": {
    "colab": {},
    "colab_type": "code",
    "id": "sMVAQnjT9zfb"
   },
   "outputs": [],
   "source": [
    "test_imputed = test.copy()\n",
    "test_imputed[\"Age\"].fillna(test[\"Age\"].median(skipna = True), inplace = True)\n",
    "test_imputed[\"Embarked\"].fillna(train['Embarked'].value_counts().idxmax(), inplace = True)\n",
    "test_imputed.drop('Cabin', axis = 1, inplace=True)"
   ]
  },
  {
   "cell_type": "markdown",
   "metadata": {
    "colab_type": "text",
    "id": "swv7DD5t_5sD"
   },
   "source": [
    "### Dropping variables"
   ]
  },
  {
   "cell_type": "code",
   "execution_count": 0,
   "metadata": {
    "colab": {},
    "colab_type": "code",
    "id": "3WBxCYkF_44a"
   },
   "outputs": [],
   "source": [
    "train_imputed.drop('Name', axis = 1, inplace = True)\n",
    "train_imputed.drop('Ticket', axis = 1 , inplace = True)\n",
    "train_imputed.drop('PassengerId', axis = 1 , inplace = True)\n",
    "\n",
    "train_imputed = pd.get_dummies(train_imputed, columns = ['Pclass','Sex','Embarked'], drop_first = True)\n"
   ]
  },
  {
   "cell_type": "markdown",
   "metadata": {
    "colab_type": "text",
    "id": "xqXQict4Yn7a"
   },
   "source": [
    "###We combine 'SibSp' and 'Parch' to the new binary 'Alone' variable (0 if travelling alone and 1 if not)."
   ]
  },
  {
   "cell_type": "code",
   "execution_count": 0,
   "metadata": {
    "colab": {},
    "colab_type": "code",
    "id": "6nvaPGtDA9c3"
   },
   "outputs": [],
   "source": [
    "train_imputed['Alone'] = np.ceil((train_imputed['SibSp'] + train_imputed['Parch'])/2).astype(object)\n",
    "train_imputed.drop('SibSp', axis = 1, inplace = True)\n",
    "train_imputed.drop('Parch', axis = 1, inplace = True)"
   ]
  },
  {
   "cell_type": "code",
   "execution_count": 0,
   "metadata": {
    "colab": {},
    "colab_type": "code",
    "id": "BCG589PNDvpV"
   },
   "outputs": [],
   "source": [
    "test_imputed.drop('Name', axis = 1, inplace = True)\n",
    "test_imputed.drop('Ticket', axis = 1 , inplace = True)\n",
    "test_imputed.drop('PassengerId', axis = 1 , inplace = True)\n",
    "\n"
   ]
  },
  {
   "cell_type": "markdown",
   "metadata": {
    "colab_type": "text",
    "id": "gEW-uCuBZJGu"
   },
   "source": [
    "### Create dummy variables for the three categorical features, so we can fit the regression model. We further drop the first column of each new dummy variable to deal with potential collinearity issues."
   ]
  },
  {
   "cell_type": "code",
   "execution_count": 0,
   "metadata": {
    "colab": {},
    "colab_type": "code",
    "id": "ZvBI8FaXZIY-"
   },
   "outputs": [],
   "source": [
    "test_imputed = pd.get_dummies(test_imputed, columns = ['Pclass','Sex','Embarked'], drop_first = True)"
   ]
  },
  {
   "cell_type": "code",
   "execution_count": 64,
   "metadata": {
    "colab": {
     "base_uri": "https://localhost:8080/",
     "height": 204
    },
    "colab_type": "code",
    "id": "LgPCi1d2DyVL",
    "outputId": "9778118a-ea9e-4d03-e965-9ba5501b3360"
   },
   "outputs": [
    {
     "data": {
      "text/html": [
       "<div>\n",
       "<style scoped>\n",
       "    .dataframe tbody tr th:only-of-type {\n",
       "        vertical-align: middle;\n",
       "    }\n",
       "\n",
       "    .dataframe tbody tr th {\n",
       "        vertical-align: top;\n",
       "    }\n",
       "\n",
       "    .dataframe thead th {\n",
       "        text-align: right;\n",
       "    }\n",
       "</style>\n",
       "<table border=\"1\" class=\"dataframe\">\n",
       "  <thead>\n",
       "    <tr style=\"text-align: right;\">\n",
       "      <th></th>\n",
       "      <th>Age</th>\n",
       "      <th>Fare</th>\n",
       "      <th>Pclass_2</th>\n",
       "      <th>Pclass_3</th>\n",
       "      <th>Sex_male</th>\n",
       "      <th>Embarked_Q</th>\n",
       "      <th>Embarked_S</th>\n",
       "      <th>Alone</th>\n",
       "    </tr>\n",
       "  </thead>\n",
       "  <tbody>\n",
       "    <tr>\n",
       "      <th>0</th>\n",
       "      <td>34.5</td>\n",
       "      <td>7.8292</td>\n",
       "      <td>0</td>\n",
       "      <td>1</td>\n",
       "      <td>1</td>\n",
       "      <td>1</td>\n",
       "      <td>0</td>\n",
       "      <td>0</td>\n",
       "    </tr>\n",
       "    <tr>\n",
       "      <th>1</th>\n",
       "      <td>47.0</td>\n",
       "      <td>7.0000</td>\n",
       "      <td>0</td>\n",
       "      <td>1</td>\n",
       "      <td>0</td>\n",
       "      <td>0</td>\n",
       "      <td>1</td>\n",
       "      <td>1</td>\n",
       "    </tr>\n",
       "    <tr>\n",
       "      <th>2</th>\n",
       "      <td>62.0</td>\n",
       "      <td>9.6875</td>\n",
       "      <td>1</td>\n",
       "      <td>0</td>\n",
       "      <td>1</td>\n",
       "      <td>1</td>\n",
       "      <td>0</td>\n",
       "      <td>0</td>\n",
       "    </tr>\n",
       "    <tr>\n",
       "      <th>3</th>\n",
       "      <td>27.0</td>\n",
       "      <td>8.6625</td>\n",
       "      <td>0</td>\n",
       "      <td>1</td>\n",
       "      <td>1</td>\n",
       "      <td>0</td>\n",
       "      <td>1</td>\n",
       "      <td>0</td>\n",
       "    </tr>\n",
       "    <tr>\n",
       "      <th>4</th>\n",
       "      <td>22.0</td>\n",
       "      <td>12.2875</td>\n",
       "      <td>0</td>\n",
       "      <td>1</td>\n",
       "      <td>0</td>\n",
       "      <td>0</td>\n",
       "      <td>1</td>\n",
       "      <td>1</td>\n",
       "    </tr>\n",
       "  </tbody>\n",
       "</table>\n",
       "</div>"
      ],
      "text/plain": [
       "    Age     Fare  Pclass_2  Pclass_3  Sex_male  Embarked_Q  Embarked_S Alone\n",
       "0  34.5   7.8292         0         1         1           1           0     0\n",
       "1  47.0   7.0000         0         1         0           0           1     1\n",
       "2  62.0   9.6875         1         0         1           1           0     0\n",
       "3  27.0   8.6625         0         1         1           0           1     0\n",
       "4  22.0  12.2875         0         1         0           0           1     1"
      ]
     },
     "execution_count": 64,
     "metadata": {
      "tags": []
     },
     "output_type": "execute_result"
    }
   ],
   "source": [
    "test_imputed['Alone'] = np.ceil((test_imputed['SibSp'] + test_imputed['Parch'])/2).astype(object)\n",
    "test_imputed.drop('SibSp', axis = 1, inplace = True)\n",
    "test_imputed.drop('Parch', axis = 1, inplace = True)\n",
    "test_imputed.head()"
   ]
  },
  {
   "cell_type": "code",
   "execution_count": 65,
   "metadata": {
    "colab": {
     "base_uri": "https://localhost:8080/",
     "height": 170
    },
    "colab_type": "code",
    "id": "karFtNstzZik",
    "outputId": "76956115-d4af-49ce-a839-097af25e5777"
   },
   "outputs": [
    {
     "data": {
      "text/plain": [
       "Age           0\n",
       "Fare          0\n",
       "Pclass_2      0\n",
       "Pclass_3      0\n",
       "Sex_male      0\n",
       "Embarked_Q    0\n",
       "Embarked_S    0\n",
       "Alone         0\n",
       "dtype: int64"
      ]
     },
     "execution_count": 65,
     "metadata": {
      "tags": []
     },
     "output_type": "execute_result"
    }
   ],
   "source": [
    "test_imputed[\"Fare\"].fillna(test[\"Fare\"].mean(skipna = True), inplace = True)\n",
    "test_imputed.isnull().sum()"
   ]
  },
  {
   "cell_type": "markdown",
   "metadata": {
    "colab_type": "text",
    "id": "yCLUHfJWyRTf"
   },
   "source": [
    "### Some more exploratory plots"
   ]
  },
  {
   "cell_type": "code",
   "execution_count": 66,
   "metadata": {
    "colab": {
     "base_uri": "https://localhost:8080/",
     "height": 295
    },
    "colab_type": "code",
    "id": "yA80YlHqx6li",
    "outputId": "a0d939b7-8a7e-4a5e-c71f-468d6444a7f7"
   },
   "outputs": [
    {
     "data": {
      "image/png": "[encoded data removed]",
      "text/plain": [
       "<Figure size 432x288 with 1 Axes>"
      ]
     },
     "metadata": {
      "tags": []
     },
     "output_type": "display_data"
    }
   ],
   "source": [
    "age_plot = sns.kdeplot(train_imputed[\"Age\"][train_imputed.Survived == 1], color=\"red\", shade = True)\n",
    "sns.kdeplot(train_imputed[\"Age\"][train_imputed.Survived == 0], color=\"blue\", shade = True)\n",
    "plt.legend(['Survived', 'Deceased'])\n",
    "plt.title('Density Plot of Age')\n",
    "age_plot.set(xlabel='Age')\n",
    "plt.xlim(-10,90)\n",
    "plt.show()"
   ]
  },
  {
   "cell_type": "code",
   "execution_count": 67,
   "metadata": {
    "colab": {
     "base_uri": "https://localhost:8080/",
     "height": 295
    },
    "colab_type": "code",
    "id": "sGAuZfspy3oh",
    "outputId": "b952d7b4-7ee9-4ffc-ba25-2894a74c5857"
   },
   "outputs": [
    {
     "data": {
      "image/png": "[encoded data removed]",
      "text/plain": [
       "<Figure size 432x288 with 1 Axes>"
      ]
     },
     "metadata": {
      "tags": []
     },
     "output_type": "display_data"
    }
   ],
   "source": [
    "fare_plot = sns.kdeplot(train_imputed[\"Fare\"][train_imputed.Survived == 1], color=\"red\", shade = True)\n",
    "sns.kdeplot(train_imputed[\"Fare\"][train_imputed.Survived == 0], color=\"blue\", shade = True)\n",
    "plt.legend(['Survived', 'Deceased'])\n",
    "plt.title('Density Plot of Fare')\n",
    "fare_plot.set(xlabel='Fare')\n",
    "plt.xlim(-10,90)\n",
    "plt.show()"
   ]
  },
  {
   "cell_type": "markdown",
   "metadata": {
    "colab_type": "text",
    "id": "nZrZZ_yQZZPJ"
   },
   "source": [
    "### Fitting Logistic Regression with all the training data"
   ]
  },
  {
   "cell_type": "code",
   "execution_count": 43,
   "metadata": {
    "colab": {
     "base_uri": "https://localhost:8080/",
     "height": 156
    },
    "colab_type": "code",
    "id": "Gritqsi6EMQx",
    "outputId": "a19caf64-b136-44bd-8d25-e17b8926149e",
    "scrolled": true
   },
   "outputs": [
    {
     "name": "stderr",
     "output_type": "stream",
     "text": [
      "/usr/local/lib/python3.6/dist-packages/sklearn/linear_model/logistic.py:432: FutureWarning: Default solver will be changed to 'lbfgs' in 0.22. Specify a solver to silence this warning.\n",
      "  FutureWarning)\n"
     ]
    },
    {
     "data": {
      "text/plain": [
       "LogisticRegression(C=1.0, class_weight=None, dual=False, fit_intercept=True,\n",
       "                   intercept_scaling=1, l1_ratio=None, max_iter=100,\n",
       "                   multi_class='warn', n_jobs=None, penalty='l2',\n",
       "                   random_state=None, solver='warn', tol=0.0001, verbose=0,\n",
       "                   warm_start=False)"
      ]
     },
     "execution_count": 43,
     "metadata": {
      "tags": []
     },
     "output_type": "execute_result"
    }
   ],
   "source": [
    "from sklearn import linear_model\n",
    "\n",
    "x = train_imputed[['Age', 'Fare', 'Pclass_2', 'Pclass_3', 'Sex_male', 'Embarked_Q', 'Embarked_S', 'Alone']]\n",
    "y = train_imputed['Survived']\n",
    "\n",
    "lr = linear_model.LogisticRegression()\n",
    "lr.fit(x, y)\n"
   ]
  },
  {
   "cell_type": "code",
   "execution_count": 44,
   "metadata": {
    "colab": {
     "base_uri": "https://localhost:8080/",
     "height": 34
    },
    "colab_type": "code",
    "id": "7xLtLS3i0005",
    "outputId": "96837684-b58e-4884-848c-16d8da3ed2e4"
   },
   "outputs": [
    {
     "name": "stdout",
     "output_type": "stream",
     "text": [
      "Accuracy of the model is: 80.2\n"
     ]
    }
   ],
   "source": [
    "from sklearn import metrics\n",
    "cm = metrics.confusion_matrix(y, lr.predict(x))\n",
    "acc = np.trace(cm)/cm.sum()\n",
    "print('Accuracy of the model is: %.1f' % (acc*100))"
   ]
  },
  {
   "cell_type": "markdown",
   "metadata": {
    "colab_type": "text",
    "id": "U7TIkvIEtRen"
   },
   "source": [
    "### Making the final prediction on the test set"
   ]
  },
  {
   "cell_type": "code",
   "execution_count": 0,
   "metadata": {
    "colab": {},
    "colab_type": "code",
    "id": "2APgnQKcC86Y"
   },
   "outputs": [],
   "source": [
    "from sklearn import metrics\n",
    "final_pred = lr.predict(test_imputed)\n",
    "final_pred\n",
    "submission = test[['PassengerId']]\n",
    "submission['Survived'] = pd.Series(final_pred)\n",
    "submission.to_csv('submission.csv', index = False)\n"
   ]
  }
 ],
 "metadata": {
  "accelerator": "GPU",
  "colab": {
   "collapsed_sections": [],
   "name": "ORIE5750_HW1_mcw232_kn442.ipynb",
   "provenance": []
  },
  "kernelspec": {
   "display_name": "Python 3",
   "language": "python",
   "name": "python3"
  },
  "language_info": {
   "codemirror_mode": {
    "name": "ipython",
    "version": 3
   },
   "file_extension": ".py",
   "mimetype": "text/x-python",
   "name": "python",
   "nbconvert_exporter": "python",
   "pygments_lexer": "ipython3",
   "version": "3.7.3"
  }
 },
 "nbformat": 4,
 "nbformat_minor": 1
}
