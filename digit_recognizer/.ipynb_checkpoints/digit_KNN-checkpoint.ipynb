{
 "cells": [
  {
   "cell_type": "code",
   "execution_count": 1,
   "metadata": {
    "colab": {},
    "colab_type": "code",
    "id": "xOapz7rILGIm"
   },
   "outputs": [],
   "source": [
    "import pandas as pd\n",
    "import numpy as np\n",
    "import matplotlib.pyplot as plt\n",
    "from scipy import stats\n",
    "import sklearn.metrics\n",
    "%matplotlib inline"
   ]
  },
  {
   "cell_type": "markdown",
   "metadata": {
    "colab_type": "text",
    "id": "r6PTj4brOsA-"
   },
   "source": [
    "## Problem 1: Digit Recognizer"
   ]
  },
  {
   "cell_type": "markdown",
   "metadata": {
    "colab_type": "text",
    "id": "dB41F3CVOjZu"
   },
   "source": [
    "### a)"
   ]
  },
  {
   "cell_type": "code",
   "execution_count": 0,
   "metadata": {
    "colab": {},
    "colab_type": "code",
    "id": "Ca95WIbs8QYs"
   },
   "outputs": [],
   "source": [
    "train = pd.read_csv(\"train_digit.csv\")\n",
    "test = pd.read_csv(\"test_digit.csv\")\n"
   ]
  },
  {
   "cell_type": "markdown",
   "metadata": {
    "colab_type": "text",
    "id": "M3QGRMViWrx9"
   },
   "source": [
    "### b) We create a function to display a digit  "
   ]
  },
  {
   "cell_type": "code",
   "execution_count": 0,
   "metadata": {
    "colab": {},
    "colab_type": "code",
    "id": "dyyLV9iUTCbB"
   },
   "outputs": [],
   "source": [
    "def MNISTdigit(rowindex):\n",
    "  img = np.array(train.iloc[rowindex,1:]).reshape(-1,28)\n",
    "  plt.imshow(img, cmap = 'Greys')\n",
    "  plt.show()"
   ]
  },
  {
   "cell_type": "markdown",
   "metadata": {
    "colab_type": "text",
    "id": "5isug3aX7RX0"
   },
   "source": [
    "and we print the first instance of every digit in the training set"
   ]
  },
  {
   "cell_type": "code",
   "execution_count": 0,
   "metadata": {
    "colab": {},
    "colab_type": "code",
    "id": "kIeiYYXmVSur"
   },
   "outputs": [],
   "source": [
    "for i in range(0,10):\n",
    "  row = 0\n",
    "  while train.iloc[row,0] != i:\n",
    "    row += 1\n",
    "  MNISTdigit(row)  \n",
    "  "
   ]
  },
  {
   "cell_type": "markdown",
   "metadata": {
    "colab_type": "text",
    "id": "Ahl5XKcLWwNN"
   },
   "source": [
    "### c) We use the value_counts function to get the normalized count of each digit and plot the corresponding histogram"
   ]
  },
  {
   "cell_type": "code",
   "execution_count": 6,
   "metadata": {
    "colab": {
     "base_uri": "https://localhost:8080/",
     "height": 295
    },
    "colab_type": "code",
    "id": "nEKlM0_rWytm",
    "outputId": "e1275460-68bf-4583-c434-9cc98f78ea99"
   },
   "outputs": [
    {
     "data": {
      "text/plain": [
       "Text(0.5, 1.0, 'Normalized histogram of digit counts')"
      ]
     },
     "execution_count": 6,
     "metadata": {
      "tags": []
     },
     "output_type": "execute_result"
    },
    {
     "data": {
      "image/png": "[encoded data removed]",
      "text/plain": [
       "<Figure size 432x288 with 1 Axes>"
      ]
     },
     "metadata": {
      "tags": []
     },
     "output_type": "display_data"
    }
   ],
   "source": [
    "train['label'].value_counts(sort = False , normalize = True).plot('bar', )\n",
    "plt.title('Normalized histogram of digit counts')"
   ]
  },
  {
   "cell_type": "markdown",
   "metadata": {
    "colab_type": "text",
    "id": "uPW9zNoCcF_c"
   },
   "source": [
    "It is relatively even, with the digit 5 being the most infrequent and 1 the most frequent."
   ]
  },
  {
   "cell_type": "markdown",
   "metadata": {
    "colab_type": "text",
    "id": "BYTrBZByddIh"
   },
   "source": [
    "### d) We start by getting the index of the first instance of each digit"
   ]
  },
  {
   "cell_type": "code",
   "execution_count": 0,
   "metadata": {
    "colab": {},
    "colab_type": "code",
    "id": "dKHERArcYK4a"
   },
   "outputs": [],
   "source": [
    " index = []\n",
    "for i in range(0,10):\n",
    "  row = 0\n",
    "  while train.iloc[row,0] != i:\n",
    "    row += 1\n",
    "  index.append(row)\n"
   ]
  },
  {
   "cell_type": "markdown",
   "metadata": {
    "colab_type": "text",
    "id": "hGo5CwMV8xr4"
   },
   "source": [
    "Then, for each digit calculate the euclidean distance between itself and the rest of the training data. Choose the second value to exclude itself"
   ]
  },
  {
   "cell_type": "code",
   "execution_count": 0,
   "metadata": {
    "colab": {},
    "colab_type": "code",
    "id": "O57EsaEIfx8H"
   },
   "outputs": [],
   "source": [
    "train_array = train.to_numpy()\n",
    "nearest = []\n",
    "\n",
    "for i in index:\n",
    "  l2_dist = np.argsort(((train_array[i,1:] - train_array[:,1:])**2).sum(-1))\n",
    "  nearest.append(l2_dist[1]) "
   ]
  },
  {
   "cell_type": "code",
   "execution_count": 9,
   "metadata": {
    "colab": {
     "base_uri": "https://localhost:8080/",
     "height": 204
    },
    "colab_type": "code",
    "id": "EEPIts42lcxM",
    "outputId": "3763a248-f873-4df1-dfdf-2f5e3ddf4cc2"
   },
   "outputs": [
    {
     "name": "stdout",
     "output_type": "stream",
     "text": [
      "   original index  nearest index  nearest label\n",
      "0               1          12950              0\n",
      "1               0          29704              1\n",
      "2              16           9536              2\n",
      "3               7           8981              5\n",
      "4               3          14787              4\n",
      "5               8          30073              5\n",
      "6              21          16240              6\n",
      "7               6          15275              7\n",
      "8              10          32586              8\n",
      "9              11          35742              9\n"
     ]
    }
   ],
   "source": [
    "nearestlabel = []\n",
    "#for each digit, get the label of its nearest neighbor\n",
    "for i in nearest:\n",
    "  nearestlabel.append(train.iloc[i,0])\n",
    "\n",
    "indexdf = pd.DataFrame(index)\n",
    "nearestdf = pd.DataFrame(nearest)\n",
    "nearestlabeldf = pd.DataFrame(nearestlabel)\n",
    "\n",
    "#create table to compare original digits to nearest neighbor\n",
    "out = np.transpose(pd.concat([np.transpose(indexdf), np.transpose(nearestdf), np.transpose(nearestlabeldf)]))  \n",
    "out.columns = [\"original index\" , \"nearest index\", \"nearest label\"]\n",
    "\n",
    "print(out)"
   ]
  },
  {
   "cell_type": "markdown",
   "metadata": {
    "colab_type": "text",
    "id": "951UBVFRwWOR"
   },
   "source": [
    "Our Number 3's closest neighbor is a Number 5. Other than that every other's nearest neighbor was itself."
   ]
  },
  {
   "cell_type": "markdown",
   "metadata": {
    "colab_type": "text",
    "id": "cQyn9sORxNlF"
   },
   "source": [
    "### e)"
   ]
  },
  {
   "cell_type": "code",
   "execution_count": 0,
   "metadata": {
    "colab": {},
    "colab_type": "code",
    "id": "0SeXqm9SxQAk"
   },
   "outputs": [],
   "source": [
    "#get and store just the zeros and ones from the training data\n",
    "zeros = train[train.iloc[:,0] == 0]\n",
    "ones = train[train.iloc[:,0] == 1]\n",
    "\n",
    "#row bind these two to create one large dataframe\n",
    "zo = pd.concat([zeros, ones])\n",
    "zo = zo.to_numpy()\n",
    "zo = zo[:,1:]"
   ]
  },
  {
   "cell_type": "code",
   "execution_count": 0,
   "metadata": {
    "colab": {},
    "colab_type": "code",
    "id": "V72LPbIz0QXB"
   },
   "outputs": [],
   "source": [
    "#calculate the pairwise distances for the above\n",
    "dis = sklearn.metrics.pairwise.euclidean_distances(zo)"
   ]
  },
  {
   "cell_type": "code",
   "execution_count": 0,
   "metadata": {
    "colab": {},
    "colab_type": "code",
    "id": "II63R56z2ypl"
   },
   "outputs": [],
   "source": [
    "#use the size of each of the ones and zeros to pull the upper left\n",
    "#and bottom right of the matrix (genuine 0 and genuine 1 respectively).\n",
    "#flatten.\n",
    "genzero = np.ndarray.flatten(dis[:zeros.shape[0],:zeros.shape[0]])\n",
    "genone = np.ndarray.flatten(dis[zeros.shape[0]:,zeros.shape[0]:])\n",
    "\n",
    "#use the size of each of the ones and zeros to pull the upper right\n",
    "#and bottom left of the matrix (imposter matches).\n",
    "#flatten.\n",
    "imposterbl = np.ndarray.flatten(dis[zeros.shape[0]:,:zeros.shape[0]])\n",
    "imposterur = np.ndarray.flatten(dis[:zeros.shape[0],zeros.shape[0]:])\n",
    "\n",
    "#bind all of the genuine and imposter distances together\n",
    "gen = np.hstack([genzero,genone])\n",
    "imp = np.hstack([imposterbl, imposterur])\n"
   ]
  },
  {
   "cell_type": "code",
   "execution_count": 13,
   "metadata": {
    "colab": {
     "base_uri": "https://localhost:8080/",
     "height": 295
    },
    "colab_type": "code",
    "id": "L8chXm0_6Urc",
    "outputId": "16710478-9d61-4861-c168-8d8290d1e737"
   },
   "outputs": [
    {
     "data": {
      "image/png": "[encoded data removed]",
      "text/plain": [
       "<Figure size 432x288 with 1 Axes>"
      ]
     },
     "metadata": {
      "tags": []
     },
     "output_type": "display_data"
    }
   ],
   "source": [
    "#plot the genuine and imposter distances on the same plot\n",
    "bins = np.linspace(0, 4000, 80)\n",
    "\n",
    "plt.hist(gen, bins, alpha = 0.5, label = 'Genuine')\n",
    "plt.hist(imp, bins, alpha = 0.5, label = 'Imposter')\n",
    "plt.legend(loc = 'upper left')\n",
    "plt.title('Histogram of Genuine and Imposter Distances')\n",
    "plt.xlabel('Distance')\n",
    "plt.ylabel('Frequency')\n",
    "plt.show()"
   ]
  },
  {
   "cell_type": "markdown",
   "metadata": {
    "colab_type": "text",
    "id": "rIyVJ7gvGosS"
   },
   "source": [
    "###f)"
   ]
  },
  {
   "cell_type": "code",
   "execution_count": 0,
   "metadata": {
    "colab": {},
    "colab_type": "code",
    "id": "NSZlXy5pGq7H"
   },
   "outputs": [],
   "source": [
    "#use zero to mark genuine matches\n",
    "markg = np.zeros(gen.shape)\n",
    "\n",
    "#use one to mark imposter matches\n",
    "marki = np.ones(imp.shape)"
   ]
  },
  {
   "cell_type": "code",
   "execution_count": 0,
   "metadata": {
    "colab": {},
    "colab_type": "code",
    "id": "o25T6vLJHRuA"
   },
   "outputs": [],
   "source": [
    "#create two master vectors of distances and corresponding labels\n",
    "dist = np.hstack([gen, imp])\n",
    "mark = np.hstack([markg, marki])"
   ]
  },
  {
   "cell_type": "code",
   "execution_count": 0,
   "metadata": {
    "colab": {},
    "colab_type": "code",
    "id": "jU6ZkgR7Hh64"
   },
   "outputs": [],
   "source": [
    "#use sklearn's roc_curve() to calculate the roc curve\n",
    "fpr, tpr, threshold = sklearn.metrics.roc_curve(mark, dist)"
   ]
  },
  {
   "cell_type": "code",
   "execution_count": 19,
   "metadata": {
    "colab": {
     "base_uri": "https://localhost:8080/",
     "height": 295
    },
    "colab_type": "code",
    "id": "K68yyG7hIdXt",
    "outputId": "b9fdcbf0-5688-42ee-f79c-fda434496c16"
   },
   "outputs": [
    {
     "data": {
      "image/png": "[encoded data removed]",
      "text/plain": [
       "<Figure size 432x288 with 1 Axes>"
      ]
     },
     "metadata": {
      "tags": []
     },
     "output_type": "display_data"
    }
   ],
   "source": [
    "#plot ROC curve with AUC\n",
    "roc_auc = sklearn.metrics.auc(fpr, tpr)\n",
    "\n",
    "\n",
    "plt.title('ROC Predicting Imposter')\n",
    "plt.plot(fpr, tpr, 'b', label = 'AUC = %0.2f' % roc_auc)\n",
    "plt.legend(loc = 'lower right')\n",
    "plt.plot([0, 1], [0, 1],'r--')\n",
    "plt.xlim([0, 1])\n",
    "plt.ylim([0, 1])\n",
    "plt.ylabel('TPR')\n",
    "plt.xlabel('FPR')\n",
    "plt.show()"
   ]
  },
  {
   "cell_type": "code",
   "execution_count": 23,
   "metadata": {
    "colab": {
     "base_uri": "https://localhost:8080/",
     "height": 34
    },
    "colab_type": "code",
    "id": "kmdA8PjL3hIH",
    "outputId": "dc56aec9-3bba-4a10-db7d-e6a3e218a4fe"
   },
   "outputs": [
    {
     "name": "stdout",
     "output_type": "stream",
     "text": [
      "0.18554784422124979 0.814452073876342\n"
     ]
    }
   ],
   "source": [
    "EER_fpr = fpr[np.nanargmin(np.absolute(((1-tpr) - fpr)))]\n",
    "EER_tpr = tpr[np.nanargmin(np.absolute(((1-tpr) - fpr)))]\n",
    "print(EER_fpr, EER_tpr)\n"
   ]
  },
  {
   "cell_type": "code",
   "execution_count": 68,
   "metadata": {
    "colab": {
     "base_uri": "https://localhost:8080/",
     "height": 34
    },
    "colab_type": "code",
    "id": "DhSKss1anpAp",
    "outputId": "bbc72573-5799-47d3-dc82-614c2e306844"
   },
   "outputs": [
    {
     "name": "stdout",
     "output_type": "stream",
     "text": [
      "The error of a classifier that simply guesses randomly is 50%\n"
     ]
    }
   ],
   "source": [
    "print('The error of a classifier that simply guesses randomly is 50%')"
   ]
  },
  {
   "cell_type": "markdown",
   "metadata": {
    "colab_type": "text",
    "id": "zcFTT1Vgp7Vr"
   },
   "source": [
    "### g)"
   ]
  },
  {
   "cell_type": "code",
   "execution_count": 0,
   "metadata": {
    "colab": {},
    "colab_type": "code",
    "id": "xv26Quvqp_2i"
   },
   "outputs": [],
   "source": [
    "#create function to run KNN. take in a training set, test set, and k.\n",
    "#output 3 arrays: (1) the actual labels (2) the nearest distances\n",
    "#(3) the labels of the nearest neighbors\n",
    "\n",
    "#trainSet includes the label in the first column\n",
    "#testSet does not include the first column\n",
    "def KNNtrain(trainSet, testSet, k):\n",
    "  nearest = np.zeros((testSet.shape[0],k))\n",
    "  nearestlabels = np.zeros((testSet.shape[0],k))\n",
    "  \n",
    "  \n",
    "  for i in range(testSet.shape[0]):\n",
    "    l2_dist = np.argsort(((testSet[i,:] - trainSet[:,1:])**2).sum(-1))\n",
    "    nearest[i,:] = l2_dist[0:k]\n",
    "  \n",
    "  for i in range(nearest.shape[0]):\n",
    "    for j in range(nearest.shape[1]):\n",
    "      nearestlabels[i,j] = trainSet[int(nearest[i,j]),0]\n",
    "  \n",
    "  \n",
    "  return(nearest, nearestlabels)"
   ]
  },
  {
   "cell_type": "code",
   "execution_count": 0,
   "metadata": {
    "colab": {},
    "colab_type": "code",
    "id": "xeubyuzmwMvp"
   },
   "outputs": [],
   "source": [
    "#split training set into two halves\n",
    "trainSet = train.sample(frac = 0.5, random_state = 200)\n",
    "testSet = train.drop(trainSet.index)\n",
    "\n",
    "trainSet = trainSet.to_numpy()\n",
    "\n",
    "\n",
    "testSet = testSet.to_numpy()\n",
    "testActual = testSet[:,0]\n",
    "testSet = testSet[:,1:]\n",
    "\n"
   ]
  },
  {
   "cell_type": "code",
   "execution_count": 0,
   "metadata": {
    "colab": {},
    "colab_type": "code",
    "id": "tS0IeXvzwxwF"
   },
   "outputs": [],
   "source": [
    "#run the knn algorithm on the prior created training and test sets\n",
    "neighbor, labels = KNNtrain(trainSet, testSet, k = 5)"
   ]
  },
  {
   "cell_type": "code",
   "execution_count": 0,
   "metadata": {
    "colab": {},
    "colab_type": "code",
    "id": "x56F_SggdwU8"
   },
   "outputs": [],
   "source": [
    "#make a prediction based on the majority vote k nearest neighbors\n",
    "def KNNPred(labels):\n",
    "  \n",
    "  prediction = np.zeros(labels.shape[0])\n",
    "  for i in range(labels.shape[0]):\n",
    "    vote = stats.mode(labels[i,:])[0][0]\n",
    "    prediction[i] = vote\n",
    "  return prediction"
   ]
  },
  {
   "cell_type": "markdown",
   "metadata": {
    "colab_type": "text",
    "id": "Qn9WkZCnsraq"
   },
   "source": [
    "### h) We now train the k-NN classifier on the first half of the data, and test it on the second half, reporting our average accuracy."
   ]
  },
  {
   "cell_type": "code",
   "execution_count": 0,
   "metadata": {
    "colab": {},
    "colab_type": "code",
    "id": "yhLfxbwDHpNc"
   },
   "outputs": [],
   "source": [
    "#run on knn model created from test and training datasets\n",
    "prediction = KNNPred(labels)"
   ]
  },
  {
   "cell_type": "code",
   "execution_count": 0,
   "metadata": {
    "colab": {
     "base_uri": "https://localhost:8080/",
     "height": 34
    },
    "colab_type": "code",
    "id": "ZIZBYMGpIlsU",
    "outputId": "1b62e1a5-5ed9-436d-9ab6-a6ac6e06488c"
   },
   "outputs": [
    {
     "data": {
      "text/plain": [
       "96.11428571428571"
      ]
     },
     "execution_count": 21,
     "metadata": {
      "tags": []
     },
     "output_type": "execute_result"
    }
   ],
   "source": [
    "from sklearn.metrics import confusion_matrix\n",
    "\n",
    "#build confusion matrix from prediction and actual of test set\n",
    "cm = confusion_matrix(testActual, prediction)\n",
    "acc = np.trace(cm)/np.sum(cm)\n",
    "acc*100\n"
   ]
  },
  {
   "cell_type": "markdown",
   "metadata": {
    "colab_type": "text",
    "id": "Y-hHOCj-s-C6"
   },
   "source": [
    "### i) 10x10 confusion matrix"
   ]
  },
  {
   "cell_type": "code",
   "execution_count": 0,
   "metadata": {
    "colab": {
     "base_uri": "https://localhost:8080/",
     "height": 282
    },
    "colab_type": "code",
    "id": "iHmBtKuCLv5N",
    "outputId": "65eaba23-0af3-4396-9d4d-0d62a8b210d6"
   },
   "outputs": [
    {
     "data": {
      "image/png": "[encoded data removed]",
      "text/plain": [
       "<Figure size 432x288 with 2 Axes>"
      ]
     },
     "metadata": {
      "tags": []
     },
     "output_type": "display_data"
    }
   ],
   "source": [
    "import seaborn as sns\n",
    "sns.set(font_scale = 0.9)\n",
    "conf_map = sns.heatmap(cm, annot = True, fmt='d')\n",
    "conf_map.set_title('Confusion Matrix Heatmap')\n",
    "plt.show()"
   ]
  },
  {
   "cell_type": "markdown",
   "metadata": {
    "colab_type": "text",
    "id": "oqHibH3NU-SO"
   },
   "source": [
    "### j) Training the classifier with all of the training data, and testing with the test data."
   ]
  },
  {
   "cell_type": "code",
   "execution_count": 0,
   "metadata": {
    "colab": {},
    "colab_type": "code",
    "id": "5JNF9eRUUpBr"
   },
   "outputs": [],
   "source": [
    "train = train.to_numpy()\n",
    "test = test.to_numpy()\n",
    "\n",
    "\n",
    "neighbor_final, labels_final = KNNtrain(train, test, k = 5)\n",
    "Label = KNNPred(labels_final)"
   ]
  },
  {
   "cell_type": "code",
   "execution_count": 0,
   "metadata": {
    "colab": {},
    "colab_type": "code",
    "id": "2qgbUCUM4nDf"
   },
   "outputs": [],
   "source": [
    "ImageId = range(1, len(Label)+1)\n",
    "submit = pd.DataFrame({'ImageId': ImageId, 'Label': Label}, columns=['ImageId', 'Label'])\n",
    "submit.to_csv('submission_digit.csv', index = False)"
   ]
  }
 ],
 "metadata": {
  "accelerator": "GPU",
  "colab": {
   "collapsed_sections": [],
   "name": "ORIE5750_HW1_mcw232_kn442.ipynb",
   "provenance": []
  },
  "kernelspec": {
   "display_name": "Python 3",
   "language": "python",
   "name": "python3"
  },
  "language_info": {
   "codemirror_mode": {
    "name": "ipython",
    "version": 3
   },
   "file_extension": ".py",
   "mimetype": "text/x-python",
   "name": "python",
   "nbconvert_exporter": "python",
   "pygments_lexer": "ipython3",
   "version": "3.7.3"
  }
 },
 "nbformat": 4,
 "nbformat_minor": 1
}
